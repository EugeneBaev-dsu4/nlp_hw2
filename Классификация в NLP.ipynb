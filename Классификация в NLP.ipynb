{
 "cells": [
  {
   "cell_type": "markdown",
   "metadata": {
    "id": "bSm0ju9puyiP"
   },
   "source": [
    "Предварительно про PyTorch:\n",
    "* [Про тензоры в pytorch](https://colab.research.google.com/github/pytorch/tutorials/blob/gh-pages/_downloads/tensor_tutorial.ipynb)\n",
    "* [Про автоматическое дифференцирование и что такое .backwards()](https://colab.research.google.com/github/pytorch/tutorials/blob/gh-pages/_downloads/autograd_tutorial.ipynb)\n",
    "* [Очень простая нейронка на pytorch](https://colab.research.google.com/drive/1RsZvw4KBGn5U5Aj5Ak7OG2pHx6z1OSlF)"
   ]
  },
  {
   "cell_type": "markdown",
   "metadata": {
    "id": "BcgMmb-QuyiT"
   },
   "source": [
    "# Классификация текстов\n",
    "\n",
    "## Fakenews\n",
    "\n",
    "1. Мы будем работать с данными fakenews отсюда: https://raw.githubusercontent.com/diptamath/covid_fake_news/main/data/Constraint_Train.csv\n",
    "2. Проведите препроцессинг текста. Разбейте данные на train и test для задачи классификации.\n",
    "3. Векторизуйте.\n",
    "4. Обучите на полученных векторах алгоритм классификации.\n",
    "\n",
    "Мы уже видели как эта задача выполняется с помощью Word2vec. Давайте вспомним."
   ]
  },
  {
   "cell_type": "code",
   "execution_count": null,
   "metadata": {
    "colab": {
     "base_uri": "https://localhost:8080/"
    },
    "executionInfo": {
     "elapsed": 373,
     "status": "ok",
     "timestamp": 1634926342093,
     "user": {
      "displayName": "Мария Шеянова",
      "photoUrl": "https://lh3.googleusercontent.com/a-/AOh14GiUjUBof_UDjR8wi8mc3l27fifrDxuKq5Eomre4PQ=s64",
      "userId": "13414369628864094336"
     },
     "user_tz": -120
    },
    "id": "8EQ4-xO7uyiU",
    "outputId": "604e53c9-3419-492b-8e94-745981f801e1"
   },
   "outputs": [
    {
     "name": "stdout",
     "output_type": "stream",
     "text": [
      "--2021-10-22 18:12:21--  https://raw.githubusercontent.com/diptamath/covid_fake_news/main/data/Constraint_Train.csv\n",
      "Resolving raw.githubusercontent.com (raw.githubusercontent.com)... 185.199.110.133, 185.199.111.133, 185.199.108.133, ...\n",
      "Connecting to raw.githubusercontent.com (raw.githubusercontent.com)|185.199.110.133|:443... connected.\n",
      "HTTP request sent, awaiting response... 200 OK\n",
      "Length: 1253562 (1.2M) [text/plain]\n",
      "Saving to: ‘Constraint_Train.csv’\n",
      "\n",
      "Constraint_Train.cs 100%[===================>]   1.20M  --.-KB/s    in 0.06s   \n",
      "\n",
      "2021-10-22 18:12:21 (21.7 MB/s) - ‘Constraint_Train.csv’ saved [1253562/1253562]\n",
      "\n"
     ]
    }
   ],
   "source": [
    "#!wget https://raw.githubusercontent.com/diptamath/covid_fake_news/main/data/Constraint_Train.csv"
   ]
  },
  {
   "cell_type": "code",
   "execution_count": 1,
   "metadata": {
    "id": "5YCpo8FuuyiW"
   },
   "outputs": [],
   "source": [
    "import pandas as pd\n",
    "import numpy as np\n",
    "import warnings\n",
    "warnings.filterwarnings('ignore')\n",
    "\n",
    "from sklearn.ensemble import RandomForestClassifier\n",
    "from sklearn.tree import DecisionTreeClassifier\n",
    "\n"
   ]
  },
  {
   "cell_type": "code",
   "execution_count": 2,
   "metadata": {
    "id": "5NSv9Mo9X-tT"
   },
   "outputs": [],
   "source": [
    "df = pd.read_csv('Constraint_Train.csv')"
   ]
  },
  {
   "cell_type": "code",
   "execution_count": 3,
   "metadata": {
    "colab": {
     "base_uri": "https://localhost:8080/",
     "height": 204
    },
    "executionInfo": {
     "elapsed": 7,
     "status": "ok",
     "timestamp": 1634926409684,
     "user": {
      "displayName": "Мария Шеянова",
      "photoUrl": "https://lh3.googleusercontent.com/a-/AOh14GiUjUBof_UDjR8wi8mc3l27fifrDxuKq5Eomre4PQ=s64",
      "userId": "13414369628864094336"
     },
     "user_tz": -120
    },
    "id": "hgpfPhA0uyiX",
    "outputId": "a3cf28b7-29c3-49ec-861b-5770206ec2a1"
   },
   "outputs": [
    {
     "data": {
      "text/html": [
       "<div>\n",
       "<style scoped>\n",
       "    .dataframe tbody tr th:only-of-type {\n",
       "        vertical-align: middle;\n",
       "    }\n",
       "\n",
       "    .dataframe tbody tr th {\n",
       "        vertical-align: top;\n",
       "    }\n",
       "\n",
       "    .dataframe thead th {\n",
       "        text-align: right;\n",
       "    }\n",
       "</style>\n",
       "<table border=\"1\" class=\"dataframe\">\n",
       "  <thead>\n",
       "    <tr style=\"text-align: right;\">\n",
       "      <th></th>\n",
       "      <th>id</th>\n",
       "      <th>tweet</th>\n",
       "      <th>label</th>\n",
       "    </tr>\n",
       "  </thead>\n",
       "  <tbody>\n",
       "    <tr>\n",
       "      <th>0</th>\n",
       "      <td>1</td>\n",
       "      <td>The CDC currently reports 99031 deaths. In gen...</td>\n",
       "      <td>real</td>\n",
       "    </tr>\n",
       "    <tr>\n",
       "      <th>1</th>\n",
       "      <td>2</td>\n",
       "      <td>States reported 1121 deaths a small rise from ...</td>\n",
       "      <td>real</td>\n",
       "    </tr>\n",
       "    <tr>\n",
       "      <th>2</th>\n",
       "      <td>3</td>\n",
       "      <td>Politically Correct Woman (Almost) Uses Pandem...</td>\n",
       "      <td>fake</td>\n",
       "    </tr>\n",
       "    <tr>\n",
       "      <th>3</th>\n",
       "      <td>4</td>\n",
       "      <td>#IndiaFightsCorona: We have 1524 #COVID testin...</td>\n",
       "      <td>real</td>\n",
       "    </tr>\n",
       "    <tr>\n",
       "      <th>4</th>\n",
       "      <td>5</td>\n",
       "      <td>Populous states can generate large case counts...</td>\n",
       "      <td>real</td>\n",
       "    </tr>\n",
       "  </tbody>\n",
       "</table>\n",
       "</div>"
      ],
      "text/plain": [
       "   id                                              tweet label\n",
       "0   1  The CDC currently reports 99031 deaths. In gen...  real\n",
       "1   2  States reported 1121 deaths a small rise from ...  real\n",
       "2   3  Politically Correct Woman (Almost) Uses Pandem...  fake\n",
       "3   4  #IndiaFightsCorona: We have 1524 #COVID testin...  real\n",
       "4   5  Populous states can generate large case counts...  real"
      ]
     },
     "execution_count": 3,
     "metadata": {},
     "output_type": "execute_result"
    }
   ],
   "source": [
    "df.head()"
   ]
  },
  {
   "cell_type": "code",
   "execution_count": 4,
   "metadata": {
    "id": "-QVUEiLfuyiY"
   },
   "outputs": [],
   "source": [
    "from nltk.tokenize import word_tokenize\n",
    "from tqdm import tqdm"
   ]
  },
  {
   "cell_type": "code",
   "execution_count": 5,
   "metadata": {
    "colab": {
     "base_uri": "https://localhost:8080/"
    },
    "executionInfo": {
     "elapsed": 5,
     "status": "ok",
     "timestamp": 1634926412285,
     "user": {
      "displayName": "Мария Шеянова",
      "photoUrl": "https://lh3.googleusercontent.com/a-/AOh14GiUjUBof_UDjR8wi8mc3l27fifrDxuKq5Eomre4PQ=s64",
      "userId": "13414369628864094336"
     },
     "user_tz": -120
    },
    "id": "9HbHy4nVNKtt",
    "outputId": "ba1f3b28-29a5-4c0d-d97a-8aeac7a6fa8c"
   },
   "outputs": [
    {
     "name": "stderr",
     "output_type": "stream",
     "text": [
      "[nltk_data] Downloading package punkt to\n",
      "[nltk_data]     C:\\Users\\BEU_RU1\\AppData\\Roaming\\nltk_data...\n",
      "[nltk_data]   Package punkt is already up-to-date!\n"
     ]
    },
    {
     "data": {
      "text/plain": [
       "True"
      ]
     },
     "execution_count": 5,
     "metadata": {},
     "output_type": "execute_result"
    }
   ],
   "source": [
    "import nltk\n",
    "nltk.download('punkt')"
   ]
  },
  {
   "cell_type": "code",
   "execution_count": 7,
   "metadata": {},
   "outputs": [],
   "source": [
    "from nltk.corpus import stopwords"
   ]
  },
  {
   "cell_type": "code",
   "execution_count": 8,
   "metadata": {
    "colab": {
     "base_uri": "https://localhost:8080/"
    },
    "executionInfo": {
     "elapsed": 2351,
     "status": "ok",
     "timestamp": 1634926417635,
     "user": {
      "displayName": "Мария Шеянова",
      "photoUrl": "https://lh3.googleusercontent.com/a-/AOh14GiUjUBof_UDjR8wi8mc3l27fifrDxuKq5Eomre4PQ=s64",
      "userId": "13414369628864094336"
     },
     "user_tz": -120
    },
    "id": "sO62Fv2YuyiY",
    "outputId": "3fce622e-e9fe-4ad7-c281-35ef31f29c25"
   },
   "outputs": [
    {
     "name": "stderr",
     "output_type": "stream",
     "text": [
      "100%|██████████| 6420/6420 [00:05<00:00, 1106.89it/s]\n"
     ]
    }
   ],
   "source": [
    "sentences = [word_tokenize(text.lower()) for text in tqdm(df.tweet)]"
   ]
  },
  {
   "cell_type": "code",
   "execution_count": 9,
   "metadata": {},
   "outputs": [],
   "source": [
    "# увеличим количество эпох"
   ]
  },
  {
   "cell_type": "code",
   "execution_count": 23,
   "metadata": {
    "colab": {
     "base_uri": "https://localhost:8080/"
    },
    "executionInfo": {
     "elapsed": 6837,
     "status": "ok",
     "timestamp": 1634926464226,
     "user": {
      "displayName": "Мария Шеянова",
      "photoUrl": "https://lh3.googleusercontent.com/a-/AOh14GiUjUBof_UDjR8wi8mc3l27fifrDxuKq5Eomre4PQ=s64",
      "userId": "13414369628864094336"
     },
     "user_tz": -120
    },
    "id": "HV6DsOOPuyiZ",
    "outputId": "1ab78cd7-c673-4825-86cc-e1a473e998dc"
   },
   "outputs": [
    {
     "name": "stdout",
     "output_type": "stream",
     "text": [
      "Wall time: 4.79 s\n"
     ]
    }
   ],
   "source": [
    "from gensim.models.word2vec import Word2Vec\n",
    "%time model_tweets = Word2Vec(sentences, workers=4, vector_size=300, min_count=3, window=5, epochs=25)"
   ]
  },
  {
   "cell_type": "code",
   "execution_count": 24,
   "metadata": {
    "colab": {
     "base_uri": "https://localhost:8080/"
    },
    "executionInfo": {
     "elapsed": 220,
     "status": "ok",
     "timestamp": 1634926475840,
     "user": {
      "displayName": "Мария Шеянова",
      "photoUrl": "https://lh3.googleusercontent.com/a-/AOh14GiUjUBof_UDjR8wi8mc3l27fifrDxuKq5Eomre4PQ=s64",
      "userId": "13414369628864094336"
     },
     "user_tz": -120
    },
    "id": "lmqe5t6BuyiZ",
    "outputId": "fc42d843-9b2c-46d4-e9eb-239e09a2e1ac"
   },
   "outputs": [
    {
     "data": {
      "text/plain": [
       "[('2015', 0.7670807242393494),\n",
       " ('victims', 0.7295958399772644),\n",
       " ('floor', 0.7201323509216309),\n",
       " ('arrest', 0.719237208366394),\n",
       " ('originated', 0.705829381942749),\n",
       " ('bags', 0.7043509483337402),\n",
       " ('corpses', 0.7031402587890625),\n",
       " ('spain', 0.7030721306800842),\n",
       " ('streets', 0.7030181288719177),\n",
       " ('lying', 0.6849498748779297)]"
      ]
     },
     "execution_count": 24,
     "metadata": {},
     "output_type": "execute_result"
    }
   ],
   "source": [
    "model_tweets.wv.most_similar('france')"
   ]
  },
  {
   "cell_type": "code",
   "execution_count": 25,
   "metadata": {
    "id": "H1C2ivBwuyia"
   },
   "outputs": [],
   "source": [
    "model_tweets.init_sims()"
   ]
  },
  {
   "cell_type": "code",
   "execution_count": 26,
   "metadata": {
    "id": "9aQM-6_Cuyib"
   },
   "outputs": [],
   "source": [
    "def get_text_embedding(text):\n",
    "    result = []\n",
    "    for word in word_tokenize(text.lower()):\n",
    "        if word in model_tweets.wv:\n",
    "            result.append(model_tweets.wv[word])\n",
    "\n",
    "    if len(result):\n",
    "        result = np.sum(result, axis=0)\n",
    "    else:\n",
    "        result = np.zeros(300)\n",
    "    return result"
   ]
  },
  {
   "cell_type": "code",
   "execution_count": 27,
   "metadata": {
    "colab": {
     "base_uri": "https://localhost:8080/"
    },
    "executionInfo": {
     "elapsed": 3165,
     "status": "ok",
     "timestamp": 1634926500598,
     "user": {
      "displayName": "Мария Шеянова",
      "photoUrl": "https://lh3.googleusercontent.com/a-/AOh14GiUjUBof_UDjR8wi8mc3l27fifrDxuKq5Eomre4PQ=s64",
      "userId": "13414369628864094336"
     },
     "user_tz": -120
    },
    "id": "MEXHIkb7uyib",
    "outputId": "8dc669c3-46d2-45d2-83a5-1e4191da03eb"
   },
   "outputs": [
    {
     "name": "stderr",
     "output_type": "stream",
     "text": [
      "100%|██████████| 6420/6420 [00:03<00:00, 1904.34it/s]\n"
     ]
    }
   ],
   "source": [
    "features = [get_text_embedding(text) for text in tqdm(df.tweet)]"
   ]
  },
  {
   "cell_type": "code",
   "execution_count": 17,
   "metadata": {
    "id": "KYWbsK2Duyic"
   },
   "outputs": [],
   "source": [
    "from sklearn.linear_model import LogisticRegression\n",
    "from sklearn.model_selection import train_test_split"
   ]
  },
  {
   "cell_type": "code",
   "execution_count": 28,
   "metadata": {
    "id": "45OhRwtTuyic"
   },
   "outputs": [],
   "source": [
    "X_train, X_test, y_train, y_test = train_test_split(features, df.label, test_size=0.33)"
   ]
  },
  {
   "cell_type": "code",
   "execution_count": 29,
   "metadata": {
    "colab": {
     "base_uri": "https://localhost:8080/"
    },
    "executionInfo": {
     "elapsed": 343,
     "status": "ok",
     "timestamp": 1634926508872,
     "user": {
      "displayName": "Мария Шеянова",
      "photoUrl": "https://lh3.googleusercontent.com/a-/AOh14GiUjUBof_UDjR8wi8mc3l27fifrDxuKq5Eomre4PQ=s64",
      "userId": "13414369628864094336"
     },
     "user_tz": -120
    },
    "id": "r_JNAMZ2uyic",
    "outputId": "2cc20ceb-bd75-452b-b4e5-5b1165057d5f"
   },
   "outputs": [
    {
     "data": {
      "text/plain": [
       "LogisticRegression()"
      ]
     },
     "execution_count": 29,
     "metadata": {},
     "output_type": "execute_result"
    }
   ],
   "source": [
    "model = LogisticRegression()\n",
    "model.fit(X_train, y_train)"
   ]
  },
  {
   "cell_type": "code",
   "execution_count": 20,
   "metadata": {
    "id": "mrWxWWhmuyic"
   },
   "outputs": [],
   "source": [
    "from sklearn.metrics import classification_report"
   ]
  },
  {
   "cell_type": "code",
   "execution_count": 30,
   "metadata": {
    "id": "OSBQINBVuyid"
   },
   "outputs": [],
   "source": [
    "predicted = model.predict(X_test)"
   ]
  },
  {
   "cell_type": "code",
   "execution_count": 31,
   "metadata": {
    "colab": {
     "base_uri": "https://localhost:8080/"
    },
    "executionInfo": {
     "elapsed": 4,
     "status": "ok",
     "timestamp": 1634926515421,
     "user": {
      "displayName": "Мария Шеянова",
      "photoUrl": "https://lh3.googleusercontent.com/a-/AOh14GiUjUBof_UDjR8wi8mc3l27fifrDxuKq5Eomre4PQ=s64",
      "userId": "13414369628864094336"
     },
     "user_tz": -120
    },
    "id": "Gh8xvZ-nuyid",
    "outputId": "e1f67627-a68a-4e1f-d124-b1eff508ae1c"
   },
   "outputs": [
    {
     "name": "stdout",
     "output_type": "stream",
     "text": [
      "              precision    recall  f1-score   support\n",
      "\n",
      "        fake       0.91      0.93      0.92      1034\n",
      "        real       0.93      0.91      0.92      1085\n",
      "\n",
      "    accuracy                           0.92      2119\n",
      "   macro avg       0.92      0.92      0.92      2119\n",
      "weighted avg       0.92      0.92      0.92      2119\n",
      "\n"
     ]
    }
   ],
   "source": [
    "print(classification_report(y_test, predicted))"
   ]
  },
  {
   "cell_type": "markdown",
   "metadata": {
    "id": "z5qCQpNduyid"
   },
   "source": [
    "###  Что будет, если использовать самый наивный метод?"
   ]
  },
  {
   "cell_type": "code",
   "execution_count": 32,
   "metadata": {
    "id": "TKLUWP8huyie"
   },
   "outputs": [],
   "source": [
    "from sklearn.feature_extraction.text import CountVectorizer"
   ]
  },
  {
   "cell_type": "code",
   "execution_count": 33,
   "metadata": {
    "id": "EY2CQW0wuyie"
   },
   "outputs": [],
   "source": [
    "vec = CountVectorizer()"
   ]
  },
  {
   "cell_type": "code",
   "execution_count": 34,
   "metadata": {
    "id": "M7CxqeGwuyie"
   },
   "outputs": [],
   "source": [
    "bow = vec.fit_transform(df.tweet)"
   ]
  },
  {
   "cell_type": "code",
   "execution_count": 35,
   "metadata": {
    "colab": {
     "base_uri": "https://localhost:8080/"
    },
    "executionInfo": {
     "elapsed": 567,
     "status": "ok",
     "timestamp": 1634926543571,
     "user": {
      "displayName": "Мария Шеянова",
      "photoUrl": "https://lh3.googleusercontent.com/a-/AOh14GiUjUBof_UDjR8wi8mc3l27fifrDxuKq5Eomre4PQ=s64",
      "userId": "13414369628864094336"
     },
     "user_tz": -120
    },
    "id": "sVzRicjKuyif",
    "outputId": "d495e8e6-ec28-48b5-f6cd-dd113f9e490e"
   },
   "outputs": [
    {
     "data": {
      "text/plain": [
       "LogisticRegression()"
      ]
     },
     "execution_count": 35,
     "metadata": {},
     "output_type": "execute_result"
    }
   ],
   "source": [
    "X_train, X_test, y_train, y_test = train_test_split(features, df.label, test_size=0.33)\n",
    "model = LogisticRegression()\n",
    "model.fit(X_train, y_train)"
   ]
  },
  {
   "cell_type": "code",
   "execution_count": 36,
   "metadata": {
    "colab": {
     "base_uri": "https://localhost:8080/"
    },
    "executionInfo": {
     "elapsed": 216,
     "status": "ok",
     "timestamp": 1634926546010,
     "user": {
      "displayName": "Мария Шеянова",
      "photoUrl": "https://lh3.googleusercontent.com/a-/AOh14GiUjUBof_UDjR8wi8mc3l27fifrDxuKq5Eomre4PQ=s64",
      "userId": "13414369628864094336"
     },
     "user_tz": -120
    },
    "id": "xMowWWtnuyif",
    "outputId": "cc07a8d7-de59-4b58-db1b-478cd640c579"
   },
   "outputs": [
    {
     "name": "stdout",
     "output_type": "stream",
     "text": [
      "              precision    recall  f1-score   support\n",
      "\n",
      "        fake       0.93      0.94      0.93      1001\n",
      "        real       0.94      0.93      0.94      1118\n",
      "\n",
      "    accuracy                           0.93      2119\n",
      "   macro avg       0.93      0.93      0.93      2119\n",
      "weighted avg       0.93      0.93      0.93      2119\n",
      "\n"
     ]
    }
   ],
   "source": [
    "predicted = model.predict(X_test)\n",
    "print(classification_report(y_test, predicted))"
   ]
  },
  {
   "cell_type": "markdown",
   "metadata": {
    "id": "UlDB2k1ruyif"
   },
   "source": [
    "Конечно, мы всегда можем поиграться с предобработкой."
   ]
  },
  {
   "cell_type": "code",
   "execution_count": 37,
   "metadata": {
    "id": "TYwoVRMbuyif"
   },
   "outputs": [],
   "source": [
    "vec = CountVectorizer(ngram_range=(1, 1), stop_words=stopwords.words('english'))\n",
    "bow = vec.fit_transform(df.tweet)"
   ]
  },
  {
   "cell_type": "code",
   "execution_count": 38,
   "metadata": {},
   "outputs": [
    {
     "data": {
      "text/plain": [
       "LogisticRegression()"
      ]
     },
     "execution_count": 38,
     "metadata": {},
     "output_type": "execute_result"
    }
   ],
   "source": [
    "X_train_2, X_test_2, y_train_2, y_test_2 = train_test_split(bow, df.label, test_size=0.33)\n",
    "lr2 = LogisticRegression()\n",
    "lr2.fit(X_train_2, y_train_2)"
   ]
  },
  {
   "cell_type": "code",
   "execution_count": 39,
   "metadata": {},
   "outputs": [
    {
     "name": "stdout",
     "output_type": "stream",
     "text": [
      "              precision    recall  f1-score   support\n",
      "\n",
      "        fake       0.93      0.93      0.93      1001\n",
      "        real       0.94      0.93      0.94      1118\n",
      "\n",
      "    accuracy                           0.93      2119\n",
      "   macro avg       0.93      0.93      0.93      2119\n",
      "weighted avg       0.93      0.93      0.93      2119\n",
      "\n"
     ]
    }
   ],
   "source": [
    "predicted_2 = lr2.predict(X_test_2)\n",
    "print(classification_report(y_test_2, predicted_2))"
   ]
  },
  {
   "cell_type": "markdown",
   "metadata": {
    "id": "T6qOclJPuyif"
   },
   "source": [
    "### PyTorch + LSTM"
   ]
  },
  {
   "cell_type": "code",
   "execution_count": 40,
   "metadata": {
    "id": "wHDxqZnTuyif"
   },
   "outputs": [],
   "source": [
    "labels = (df.label == 'real').astype(int).to_list()"
   ]
  },
  {
   "cell_type": "markdown",
   "metadata": {
    "id": "7fUz2OKauyif"
   },
   "source": [
    "Нужно заранее задать размер для макксимальной длины предложений."
   ]
  },
  {
   "cell_type": "code",
   "execution_count": 41,
   "metadata": {
    "id": "8BkQTxbMuyig"
   },
   "outputs": [],
   "source": [
    "token_lists = [word_tokenize(text.lower()) for text in df.tweet]\n",
    "max_len = len(max(token_lists, key=len))"
   ]
  },
  {
   "cell_type": "code",
   "execution_count": 42,
   "metadata": {
    "colab": {
     "base_uri": "https://localhost:8080/"
    },
    "executionInfo": {
     "elapsed": 264,
     "status": "ok",
     "timestamp": 1634926765787,
     "user": {
      "displayName": "Мария Шеянова",
      "photoUrl": "https://lh3.googleusercontent.com/a-/AOh14GiUjUBof_UDjR8wi8mc3l27fifrDxuKq5Eomre4PQ=s64",
      "userId": "13414369628864094336"
     },
     "user_tz": -120
    },
    "id": "125Q6tQhuyig",
    "outputId": "e71cc1c9-5d64-43f6-8b39-efa79aab2197"
   },
   "outputs": [
    {
     "data": {
      "text/plain": [
       "1592"
      ]
     },
     "execution_count": 42,
     "metadata": {},
     "output_type": "execute_result"
    }
   ],
   "source": [
    "max_len"
   ]
  },
  {
   "cell_type": "markdown",
   "metadata": {
    "id": "0HUNPzqWuyig"
   },
   "source": [
    "Это слишком много. Но какая длина обычно?"
   ]
  },
  {
   "cell_type": "code",
   "execution_count": 43,
   "metadata": {
    "id": "4TQVd6Fruyig"
   },
   "outputs": [],
   "source": [
    "from collections import Counter\n",
    "fd = Counter([len(tokens) for tokens in token_lists])"
   ]
  },
  {
   "cell_type": "code",
   "execution_count": 44,
   "metadata": {
    "colab": {
     "base_uri": "https://localhost:8080/"
    },
    "executionInfo": {
     "elapsed": 334,
     "status": "ok",
     "timestamp": 1634926788004,
     "user": {
      "displayName": "Мария Шеянова",
      "photoUrl": "https://lh3.googleusercontent.com/a-/AOh14GiUjUBof_UDjR8wi8mc3l27fifrDxuKq5Eomre4PQ=s64",
      "userId": "13414369628864094336"
     },
     "user_tz": -120
    },
    "id": "CycieWjbuyih",
    "outputId": "9bc37e53-8010-4b5b-b65a-4c618c36ea32"
   },
   "outputs": [
    {
     "data": {
      "text/plain": [
       "[(20, 178),\n",
       " (25, 174),\n",
       " (22, 170),\n",
       " (18, 170),\n",
       " (19, 168),\n",
       " (21, 168),\n",
       " (16, 163),\n",
       " (17, 162),\n",
       " (15, 160),\n",
       " (23, 156)]"
      ]
     },
     "execution_count": 44,
     "metadata": {},
     "output_type": "execute_result"
    }
   ],
   "source": [
    "fd.most_common(10)"
   ]
  },
  {
   "cell_type": "markdown",
   "metadata": {
    "id": "3LNWZldVuyih"
   },
   "source": [
    "Зададим максимум 200."
   ]
  },
  {
   "cell_type": "markdown",
   "metadata": {
    "id": "FxPTNDQ0uyii"
   },
   "source": [
    "Возьмём те же w2v эмбеддинги."
   ]
  },
  {
   "cell_type": "code",
   "execution_count": 127,
   "metadata": {
    "id": "cNOPWCq1uyii"
   },
   "outputs": [],
   "source": [
    "def get_word_embedding(tokens, max_len):\n",
    "    result = []\n",
    "    for i in range(max_len):\n",
    "        if i < len(tokens):\n",
    "            word = tokens[i]\n",
    "            if word in model_tweets.wv:\n",
    "                result.append(model_tweets.wv[word])\n",
    "            else:\n",
    "                result.append(np.zeros(300))\n",
    "        else:\n",
    "            result.append(np.zeros(300))\n",
    "    return result"
   ]
  },
  {
   "cell_type": "code",
   "execution_count": 128,
   "metadata": {
    "colab": {
     "base_uri": "https://localhost:8080/"
    },
    "executionInfo": {
     "elapsed": 4057,
     "status": "ok",
     "timestamp": 1634927170637,
     "user": {
      "displayName": "Мария Шеянова",
      "photoUrl": "https://lh3.googleusercontent.com/a-/AOh14GiUjUBof_UDjR8wi8mc3l27fifrDxuKq5Eomre4PQ=s64",
      "userId": "13414369628864094336"
     },
     "user_tz": -120
    },
    "id": "tBkyQdORuyii",
    "outputId": "d783bc1c-d796-48b7-e626-07fc85bfc5db"
   },
   "outputs": [
    {
     "name": "stderr",
     "output_type": "stream",
     "text": [
      "100%|██████████| 6420/6420 [00:05<00:00, 1140.71it/s]\n"
     ]
    }
   ],
   "source": [
    "features = [get_word_embedding(text, 200) for text in tqdm(token_lists)]"
   ]
  },
  {
   "cell_type": "code",
   "execution_count": 129,
   "metadata": {
    "id": "_COity4Puyij"
   },
   "outputs": [],
   "source": [
    "X_train, X_test, y_train, y_test = train_test_split(features, labels, test_size=0.33)"
   ]
  },
  {
   "cell_type": "code",
   "execution_count": 50,
   "metadata": {
    "id": "DXHLD6eKuyij"
   },
   "outputs": [],
   "source": [
    "import torch\n",
    "import torch.nn as nn\n",
    "import torch.optim as optim"
   ]
  },
  {
   "cell_type": "code",
   "execution_count": 130,
   "metadata": {
    "colab": {
     "base_uri": "https://localhost:8080/"
    },
    "executionInfo": {
     "elapsed": 254,
     "status": "ok",
     "timestamp": 1634927307710,
     "user": {
      "displayName": "Мария Шеянова",
      "photoUrl": "https://lh3.googleusercontent.com/a-/AOh14GiUjUBof_UDjR8wi8mc3l27fifrDxuKq5Eomre4PQ=s64",
      "userId": "13414369628864094336"
     },
     "user_tz": -120
    },
    "id": "ZwGQpAbcuyij",
    "outputId": "d779c4cf-92de-4965-b016-249b22b973ec"
   },
   "outputs": [
    {
     "data": {
      "text/plain": [
       "300"
      ]
     },
     "execution_count": 130,
     "metadata": {},
     "output_type": "execute_result"
    }
   ],
   "source": [
    "len(features[0][0])"
   ]
  },
  {
   "cell_type": "code",
   "execution_count": 131,
   "metadata": {
    "colab": {
     "base_uri": "https://localhost:8080/"
    },
    "executionInfo": {
     "elapsed": 246,
     "status": "ok",
     "timestamp": 1634927532366,
     "user": {
      "displayName": "Мария Шеянова",
      "photoUrl": "https://lh3.googleusercontent.com/a-/AOh14GiUjUBof_UDjR8wi8mc3l27fifrDxuKq5Eomre4PQ=s64",
      "userId": "13414369628864094336"
     },
     "user_tz": -120
    },
    "id": "KUNRDEXNRdOF",
    "outputId": "6eaa2bc7-d0a6-4990-9ab4-91a9b35b8261"
   },
   "outputs": [
    {
     "data": {
      "text/plain": [
       "4301"
      ]
     },
     "execution_count": 131,
     "metadata": {},
     "output_type": "execute_result"
    }
   ],
   "source": [
    "len(X_train)"
   ]
  },
  {
   "cell_type": "code",
   "execution_count": 132,
   "metadata": {
    "colab": {
     "base_uri": "https://localhost:8080/"
    },
    "executionInfo": {
     "elapsed": 219,
     "status": "ok",
     "timestamp": 1634927549723,
     "user": {
      "displayName": "Мария Шеянова",
      "photoUrl": "https://lh3.googleusercontent.com/a-/AOh14GiUjUBof_UDjR8wi8mc3l27fifrDxuKq5Eomre4PQ=s64",
      "userId": "13414369628864094336"
     },
     "user_tz": -120
    },
    "id": "tVsXkUfMRlc1",
    "outputId": "ae96375e-f97c-420a-bab5-3cf6af91efae"
   },
   "outputs": [
    {
     "data": {
      "text/plain": [
       "200"
      ]
     },
     "execution_count": 132,
     "metadata": {},
     "output_type": "execute_result"
    }
   ],
   "source": [
    "len(X_train[0])"
   ]
  },
  {
   "cell_type": "code",
   "execution_count": 133,
   "metadata": {
    "colab": {
     "base_uri": "https://localhost:8080/"
    },
    "executionInfo": {
     "elapsed": 228,
     "status": "ok",
     "timestamp": 1634927557078,
     "user": {
      "displayName": "Мария Шеянова",
      "photoUrl": "https://lh3.googleusercontent.com/a-/AOh14GiUjUBof_UDjR8wi8mc3l27fifrDxuKq5Eomre4PQ=s64",
      "userId": "13414369628864094336"
     },
     "user_tz": -120
    },
    "id": "-ZuoO5uhRpmy",
    "outputId": "2edd6fff-52e8-4eff-ddc8-c817b7ddf635"
   },
   "outputs": [
    {
     "data": {
      "text/plain": [
       "300"
      ]
     },
     "execution_count": 133,
     "metadata": {},
     "output_type": "execute_result"
    }
   ],
   "source": [
    "len(X_train[0][0])"
   ]
  },
  {
   "cell_type": "code",
   "execution_count": 134,
   "metadata": {
    "colab": {
     "base_uri": "https://localhost:8080/"
    },
    "executionInfo": {
     "elapsed": 271,
     "status": "ok",
     "timestamp": 1634927710292,
     "user": {
      "displayName": "Мария Шеянова",
      "photoUrl": "https://lh3.googleusercontent.com/a-/AOh14GiUjUBof_UDjR8wi8mc3l27fifrDxuKq5Eomre4PQ=s64",
      "userId": "13414369628864094336"
     },
     "user_tz": -120
    },
    "id": "J-N2gN0xuyij",
    "outputId": "fced0589-14c0-49df-caeb-601d4e8037ea"
   },
   "outputs": [
    {
     "name": "stdout",
     "output_type": "stream",
     "text": [
      "Net(\n",
      "  (lstm): LSTM(300, 100)\n",
      "  (out): Linear(in_features=100, out_features=1, bias=True)\n",
      ")\n"
     ]
    }
   ],
   "source": [
    "class Net(nn.Module):\n",
    "\n",
    "    def __init__(self):\n",
    "        super(Net, self).__init__()\n",
    "        self.lstm = nn.LSTM(300, 100)\n",
    "        self.out = nn.Linear(100, 1)\n",
    "\n",
    "    def forward(self, x):\n",
    "        embeddings, (shortterm, longterm) = self.lstm(x.transpose(0, 1))\n",
    "        prediction = torch.sigmoid(self.out(longterm))\n",
    "        return prediction\n",
    "\n",
    "\n",
    "net = Net()\n",
    "print(net)"
   ]
  },
  {
   "cell_type": "code",
   "execution_count": 135,
   "metadata": {
    "id": "cOjKyQdnuyij"
   },
   "outputs": [],
   "source": [
    "in_data = torch.tensor(X_train).float()\n",
    "targets = torch.tensor(y_train).float()"
   ]
  },
  {
   "cell_type": "code",
   "execution_count": 136,
   "metadata": {
    "colab": {
     "base_uri": "https://localhost:8080/"
    },
    "executionInfo": {
     "elapsed": 5,
     "status": "ok",
     "timestamp": 1634927920666,
     "user": {
      "displayName": "Мария Шеянова",
      "photoUrl": "https://lh3.googleusercontent.com/a-/AOh14GiUjUBof_UDjR8wi8mc3l27fifrDxuKq5Eomre4PQ=s64",
      "userId": "13414369628864094336"
     },
     "user_tz": -120
    },
    "id": "Surg_PcQuyij",
    "outputId": "d1f063ac-e5a2-4455-f3f9-ee2964e93bc3"
   },
   "outputs": [
    {
     "data": {
      "text/plain": [
       "torch.Size([4301, 200, 300])"
      ]
     },
     "execution_count": 136,
     "metadata": {},
     "output_type": "execute_result"
    }
   ],
   "source": [
    "in_data.shape"
   ]
  },
  {
   "cell_type": "code",
   "execution_count": 137,
   "metadata": {
    "id": "dQ8WQFlnuyik"
   },
   "outputs": [],
   "source": [
    "optimizer = optim.SGD(net.parameters(), lr=0.01)\n",
    "criterion = nn.BCELoss()"
   ]
  },
  {
   "cell_type": "code",
   "execution_count": 138,
   "metadata": {
    "id": "ujjn4KVIuyik"
   },
   "outputs": [],
   "source": [
    "def train_one_epoch(in_data, targets, batch_size=16):\n",
    "    for i in tqdm(range(0, in_data.shape[0], batch_size)):\n",
    "        batch_x = in_data[i:i + batch_size]\n",
    "        batch_y = targets[i:i + batch_size]\n",
    "        optimizer.zero_grad()\n",
    "        output = net(batch_x)\n",
    "        loss = criterion(output.reshape(-1), batch_y)\n",
    "        loss.backward()\n",
    "        optimizer.step()\n",
    "    print(loss)"
   ]
  },
  {
   "cell_type": "code",
   "execution_count": 139,
   "metadata": {
    "colab": {
     "base_uri": "https://localhost:8080/"
    },
    "executionInfo": {
     "elapsed": 201594,
     "status": "ok",
     "timestamp": 1634928195260,
     "user": {
      "displayName": "Мария Шеянова",
      "photoUrl": "https://lh3.googleusercontent.com/a-/AOh14GiUjUBof_UDjR8wi8mc3l27fifrDxuKq5Eomre4PQ=s64",
      "userId": "13414369628864094336"
     },
     "user_tz": -120
    },
    "id": "CorzeZjIuyik",
    "outputId": "625e71a7-c226-49f0-cb6e-f8665f642025"
   },
   "outputs": [
    {
     "name": "stderr",
     "output_type": "stream",
     "text": [
      "100%|██████████| 269/269 [02:05<00:00,  2.15it/s]"
     ]
    },
    {
     "name": "stdout",
     "output_type": "stream",
     "text": [
      "tensor(0.6909, grad_fn=<BinaryCrossEntropyBackward0>)\n"
     ]
    },
    {
     "name": "stderr",
     "output_type": "stream",
     "text": [
      "\n"
     ]
    }
   ],
   "source": [
    "train_one_epoch(in_data, targets)"
   ]
  },
  {
   "cell_type": "markdown",
   "metadata": {
    "id": "pna8zQLluyil"
   },
   "source": [
    "Что получилось?"
   ]
  },
  {
   "cell_type": "code",
   "execution_count": 140,
   "metadata": {
    "id": "CQGiiAiLuyil"
   },
   "outputs": [],
   "source": [
    "in_data_test = torch.tensor(X_test).float()\n",
    "targets_test = torch.tensor(y_test).float()"
   ]
  },
  {
   "cell_type": "code",
   "execution_count": 141,
   "metadata": {
    "id": "9VuVw4uUuyil"
   },
   "outputs": [],
   "source": [
    "with torch.no_grad():\n",
    "    output = net(in_data_test).reshape(-1)"
   ]
  },
  {
   "cell_type": "code",
   "execution_count": 142,
   "metadata": {
    "id": "cJxlSn2buyil"
   },
   "outputs": [],
   "source": [
    "result = (output > 0.5) == targets_test"
   ]
  },
  {
   "cell_type": "code",
   "execution_count": 143,
   "metadata": {
    "colab": {
     "base_uri": "https://localhost:8080/"
    },
    "executionInfo": {
     "elapsed": 4,
     "status": "ok",
     "timestamp": 1634928344901,
     "user": {
      "displayName": "Мария Шеянова",
      "photoUrl": "https://lh3.googleusercontent.com/a-/AOh14GiUjUBof_UDjR8wi8mc3l27fifrDxuKq5Eomre4PQ=s64",
      "userId": "13414369628864094336"
     },
     "user_tz": -120
    },
    "id": "JTYoH6Xpuyil",
    "outputId": "f6ef81b0-830b-418e-9fbb-0fd0948e9d5e"
   },
   "outputs": [
    {
     "data": {
      "text/plain": [
       "0.512977819726286"
      ]
     },
     "execution_count": 143,
     "metadata": {},
     "output_type": "execute_result"
    }
   ],
   "source": [
    "result.sum().item() / len(result)"
   ]
  },
  {
   "cell_type": "markdown",
   "metadata": {
    "id": "-a-HEDe9uyim"
   },
   "source": [
    "Но такую модель надо учить дольше("
   ]
  },
  {
   "cell_type": "code",
   "execution_count": 167,
   "metadata": {},
   "outputs": [
    {
     "name": "stdout",
     "output_type": "stream",
     "text": [
      "Net(\n",
      "  (lstm): LSTM(300, 100, dropout=0.5)\n",
      "  (out): Linear(in_features=100, out_features=1, bias=True)\n",
      ")\n"
     ]
    }
   ],
   "source": [
    "class Net(nn.Module):\n",
    "\n",
    "    def __init__(self):\n",
    "        super(Net, self).__init__()\n",
    "        self.lstm = nn.LSTM(300, 100, dropout=0.5)\n",
    "        self.out = nn.Linear(100, 1)\n",
    "\n",
    "    def forward(self, x):\n",
    "        embeddings, (shortterm, longterm) = self.lstm(x.transpose(0, 1))\n",
    "        prediction = torch.nn.functional.sigmoid(self.out(longterm))\n",
    "        return prediction\n",
    "\n",
    "\n",
    "net = Net()\n",
    "print(net)"
   ]
  },
  {
   "cell_type": "code",
   "execution_count": 168,
   "metadata": {},
   "outputs": [],
   "source": [
    "in_data = torch.tensor(X_train).float()\n",
    "targets = torch.tensor(y_train).float()"
   ]
  },
  {
   "cell_type": "code",
   "execution_count": 169,
   "metadata": {},
   "outputs": [],
   "source": [
    "optimizer = optim.SGD(net.parameters(), lr=0.01, momentum=0.9)\n",
    "criterion = nn.BCELoss()"
   ]
  },
  {
   "cell_type": "code",
   "execution_count": 170,
   "metadata": {},
   "outputs": [],
   "source": [
    "def train_one_epoch(in_data, targets, batch_size=16):\n",
    "    for b in tqdm(range(0, in_data.shape[0])):\n",
    "        for i in range(0, 200, batch_size): #tqdm(range(0, in_data.shape[0], batch_size)):\n",
    "            batch_x = in_data[b:b+1, i:i + batch_size]\n",
    "            batch_y = targets[b:b+1]\n",
    "            optimizer.zero_grad()\n",
    "            output = net(batch_x)\n",
    "            loss = criterion(output.reshape(-1), batch_y)\n",
    "            loss.backward()\n",
    "            optimizer.step()\n",
    "    print(loss)"
   ]
  },
  {
   "cell_type": "code",
   "execution_count": 171,
   "metadata": {},
   "outputs": [
    {
     "name": "stderr",
     "output_type": "stream",
     "text": [
      "100%|██████████| 4301/4301 [06:23<00:00, 11.21it/s]"
     ]
    },
    {
     "name": "stdout",
     "output_type": "stream",
     "text": [
      "tensor(0.3721, grad_fn=<BinaryCrossEntropyBackward0>)\n"
     ]
    },
    {
     "name": "stderr",
     "output_type": "stream",
     "text": [
      "\n"
     ]
    }
   ],
   "source": [
    "train_one_epoch(in_data, targets)"
   ]
  },
  {
   "cell_type": "code",
   "execution_count": 172,
   "metadata": {},
   "outputs": [],
   "source": [
    "in_data_test = torch.tensor(X_test).float()\n",
    "targets_test = torch.tensor(y_test).float()"
   ]
  },
  {
   "cell_type": "code",
   "execution_count": 173,
   "metadata": {},
   "outputs": [
    {
     "data": {
      "text/plain": [
       "(torch.Size([2119, 200, 300]), torch.Size([2119]))"
      ]
     },
     "execution_count": 173,
     "metadata": {},
     "output_type": "execute_result"
    }
   ],
   "source": [
    "in_data_test.shape, targets_test.shape"
   ]
  },
  {
   "cell_type": "code",
   "execution_count": 174,
   "metadata": {},
   "outputs": [],
   "source": [
    "with torch.no_grad():\n",
    "    output = net(in_data_test).reshape(-1)"
   ]
  },
  {
   "cell_type": "code",
   "execution_count": 175,
   "metadata": {},
   "outputs": [],
   "source": [
    "result = (output > 0.5) == targets_test"
   ]
  },
  {
   "cell_type": "code",
   "execution_count": 176,
   "metadata": {},
   "outputs": [
    {
     "data": {
      "text/plain": [
       "0.5884851344974045"
      ]
     },
     "execution_count": 176,
     "metadata": {},
     "output_type": "execute_result"
    }
   ],
   "source": [
    "result.sum().item() / len(result)"
   ]
  },
  {
   "cell_type": "code",
   "execution_count": null,
   "metadata": {},
   "outputs": [],
   "source": []
  }
 ],
 "metadata": {
  "colab": {
   "collapsed_sections": [],
   "name": "Классификация в NLP.ipynb",
   "provenance": []
  },
  "kernelspec": {
   "display_name": "Python 3 (ipykernel)",
   "language": "python",
   "name": "python3"
  },
  "language_info": {
   "codemirror_mode": {
    "name": "ipython",
    "version": 3
   },
   "file_extension": ".py",
   "mimetype": "text/x-python",
   "name": "python",
   "nbconvert_exporter": "python",
   "pygments_lexer": "ipython3",
   "version": "3.9.7"
  }
 },
 "nbformat": 4,
 "nbformat_minor": 1
}
